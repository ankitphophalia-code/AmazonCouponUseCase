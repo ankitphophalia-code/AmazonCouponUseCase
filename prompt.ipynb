{
 "cells": [
  {
   "cell_type": "markdown",
   "metadata": {
    "id": "CcUT6Fon_qRE"
   },
   "source": [
    "### Required Assignment 5.1: Will the Customer Accept the Coupon?\n",
    "\n",
    "**Context**\n",
    "\n",
    "Imagine driving through town and a coupon is delivered to your cell phone for a restaurant near where you are driving. Would you accept that coupon and take a short detour to the restaurant? Would you accept the coupon but use it on a subsequent trip? Would you ignore the coupon entirely? What if the coupon was for a bar instead of a restaurant? What about a coffee house? Would you accept a bar coupon with a minor passenger in the car? What about if it was just you and your partner in the car? Would weather impact the rate of acceptance? What about the time of day?\n",
    "\n",
    "Obviously, proximity to the business is a factor on whether the coupon is delivered to the driver or not, but what are the factors that determine whether a driver accepts the coupon once it is delivered to them? How would you determine whether a driver is likely to accept a coupon?\n",
    "\n",
    "**Overview**\n",
    "\n",
    "The goal of this project is to use what you know about visualizations and probability distributions to distinguish between customers who accepted a driving coupon versus those that did not.\n",
    "\n",
    "**Data**\n",
    "\n",
    "This data comes to us from the UCI Machine Learning repository and was collected via a survey on Amazon Mechanical Turk. The survey describes different driving scenarios including the destination, current time, weather, passenger, etc., and then ask the person whether he will accept the coupon if he is the driver. Answers that the user will drive there ‘right away’ or ‘later before the coupon expires’ are labeled as ‘Y = 1’ and answers ‘no, I do not want the coupon’ are labeled as ‘Y = 0’.  There are five different types of coupons -- less expensive restaurants (under \\$20), coffee houses, carry out & take away, bar, and more expensive restaurants (\\$20 - $50)."
   ]
  },
  {
   "cell_type": "markdown",
   "metadata": {
    "id": "1wORvMBJ_qRF"
   },
   "source": [
    "**Deliverables**\n",
    "\n",
    "Your final product should be a brief report that highlights the differences between customers who did and did not accept the coupons.  To explore the data you will utilize your knowledge of plotting, statistical summaries, and visualization using Python. You will publish your findings in a public facing github repository as your first portfolio piece.\n",
    "\n",
    "\n",
    "\n"
   ]
  },
  {
   "cell_type": "markdown",
   "metadata": {
    "id": "pG6_Ym6q_qRG"
   },
   "source": [
    "### Data Description\n",
    "Keep in mind that these values mentioned below are average values.\n",
    "\n",
    "The attributes of this data set include:\n",
    "1. User attributes\n",
    "    -  Gender: male, female\n",
    "    -  Age: below 21, 21 to 25, 26 to 30, etc.\n",
    "    -  Marital Status: single, married partner, unmarried partner, or widowed\n",
    "    -  Number of children: 0, 1, or more than 1\n",
    "    -  Education: high school, bachelors degree, associates degree, or graduate degree\n",
    "    -  Occupation: architecture & engineering, business & financial, etc.\n",
    "    -  Annual income: less than \\\\$12500, \\\\$12500 - \\\\$24999, \\\\$25000 - \\\\$37499, etc.\n",
    "    -  Number of times that he/she goes to a bar: 0, less than 1, 1 to 3, 4 to 8 or greater than 8\n",
    "    -  Number of times that he/she buys takeaway food: 0, less than 1, 1 to 3, 4 to 8 or greater\n",
    "    than 8\n",
    "    -  Number of times that he/she goes to a coffee house: 0, less than 1, 1 to 3, 4 to 8 or\n",
    "    greater than 8\n",
    "    -  Number of times that he/she eats at a restaurant with average expense less than \\\\$20 per\n",
    "    person: 0, less than 1, 1 to 3, 4 to 8 or greater than 8\n",
    "    -  Number of times that he/she goes to a bar: 0, less than 1, 1 to 3, 4 to 8 or greater than 8\n",
    "    \n",
    "\n",
    "2. Contextual attributes\n",
    "    - Driving destination: home, work, or no urgent destination\n",
    "    - Location of user, coupon and destination: we provide a map to show the geographical\n",
    "    location of the user, destination, and the venue, and we mark the distance between each\n",
    "    two places with time of driving. The user can see whether the venue is in the same\n",
    "    direction as the destination.\n",
    "    - Weather: sunny, rainy, or snowy\n",
    "    - Temperature: 30F, 55F, or 80F\n",
    "    - Time: 10AM, 2PM, or 6PM\n",
    "    - Passenger: alone, partner, kid(s), or friend(s)\n",
    "\n",
    "\n",
    "3. Coupon attributes\n",
    "    - time before it expires: 2 hours or one day"
   ]
  },
  {
   "cell_type": "code",
   "execution_count": 8,
   "metadata": {
    "id": "dzNoP3o__qRG"
   },
   "outputs": [],
   "source": [
    "import matplotlib.pyplot as plt\n",
    "import seaborn as sns\n",
    "import pandas as pd\n",
    "import numpy as np"
   ]
  },
  {
   "cell_type": "markdown",
   "metadata": {
    "id": "Ct8pI1uE_qRG"
   },
   "source": [
    "### Problems\n",
    "\n",
    "Use the prompts below to get started with your data analysis.  \n",
    "\n",
    "1. Read in the `coupons.csv` file.\n",
    "\n",
    "\n"
   ]
  },
  {
   "cell_type": "code",
   "execution_count": 10,
   "metadata": {
    "id": "X0vbffYg_qRH"
   },
   "outputs": [],
   "source": [
    "data = pd.read_csv('data/coupons.csv')"
   ]
  },
  {
   "cell_type": "code",
   "execution_count": 11,
   "metadata": {
    "id": "TXofQ_DF_qRH",
    "outputId": "2fc96a2c-1112-4b54-f24f-dbb9bc88abfb"
   },
   "outputs": [
    {
     "data": {
      "text/plain": [
       "12684"
      ]
     },
     "execution_count": 11,
     "metadata": {},
     "output_type": "execute_result"
    }
   ],
   "source": [
    "data.shape[0]"
   ]
  },
  {
   "cell_type": "code",
   "execution_count": 12,
   "metadata": {},
   "outputs": [
    {
     "data": {
      "text/plain": [
       "destination             object\n",
       "passanger               object\n",
       "weather                 object\n",
       "temperature              int64\n",
       "time                    object\n",
       "coupon                  object\n",
       "expiration              object\n",
       "gender                  object\n",
       "age                     object\n",
       "maritalStatus           object\n",
       "has_children             int64\n",
       "education               object\n",
       "occupation              object\n",
       "income                  object\n",
       "car                     object\n",
       "Bar                     object\n",
       "CoffeeHouse             object\n",
       "CarryAway               object\n",
       "RestaurantLessThan20    object\n",
       "Restaurant20To50        object\n",
       "toCoupon_GEQ5min         int64\n",
       "toCoupon_GEQ15min        int64\n",
       "toCoupon_GEQ25min        int64\n",
       "direction_same           int64\n",
       "direction_opp            int64\n",
       "Y                        int64\n",
       "dtype: object"
      ]
     },
     "execution_count": 12,
     "metadata": {},
     "output_type": "execute_result"
    }
   ],
   "source": [
    "data.shape\n",
    "data.dtypes\n"
   ]
  },
  {
   "cell_type": "markdown",
   "metadata": {
    "id": "GcDs78ZH_qRH"
   },
   "source": [
    "2. Investigate the dataset for missing or problematic data."
   ]
  },
  {
   "cell_type": "code",
   "execution_count": 14,
   "metadata": {
    "id": "6CwL6oWj_qRH"
   },
   "outputs": [
    {
     "name": "stdout",
     "output_type": "stream",
     "text": [
      "destination                 0\n",
      "passanger                   0\n",
      "weather                     0\n",
      "temperature                 0\n",
      "time                        0\n",
      "coupon                      0\n",
      "expiration                  0\n",
      "gender                      0\n",
      "age                         0\n",
      "maritalStatus               0\n",
      "has_children                0\n",
      "education                   0\n",
      "occupation                  0\n",
      "income                      0\n",
      "car                     12576\n",
      "Bar                       107\n",
      "CoffeeHouse               217\n",
      "CarryAway                 151\n",
      "RestaurantLessThan20      130\n",
      "Restaurant20To50          189\n",
      "toCoupon_GEQ5min            0\n",
      "toCoupon_GEQ15min           0\n",
      "toCoupon_GEQ25min           0\n",
      "direction_same              0\n",
      "direction_opp               0\n",
      "Y                           0\n",
      "dtype: int64\n"
     ]
    }
   ],
   "source": [
    "print(data.isnull().sum())\n",
    "\n",
    "#As per this data there are several rows with blank spaces. We cannot get rid of those cols. as they are useful to tell us that these people have no accepted any cols. \n",
    "#We need to get rid of blanks to make the data consistent and easy to query\n"
   ]
  },
  {
   "cell_type": "markdown",
   "metadata": {
    "id": "bSdVSpYB_qRH"
   },
   "source": [
    "3. Decide what to do about your missing data -- drop, replace, other..."
   ]
  },
  {
   "cell_type": "code",
   "execution_count": 16,
   "metadata": {
    "id": "tyvoAC5F_qRI"
   },
   "outputs": [
    {
     "data": {
      "text/plain": [
       "destination             0\n",
       "passanger               0\n",
       "weather                 0\n",
       "temperature             0\n",
       "time                    0\n",
       "coupon                  0\n",
       "expiration              0\n",
       "gender                  0\n",
       "age                     0\n",
       "maritalStatus           0\n",
       "has_children            0\n",
       "education               0\n",
       "occupation              0\n",
       "income                  0\n",
       "car                     0\n",
       "Bar                     0\n",
       "CoffeeHouse             0\n",
       "CarryAway               0\n",
       "RestaurantLessThan20    0\n",
       "Restaurant20To50        0\n",
       "toCoupon_GEQ5min        0\n",
       "toCoupon_GEQ15min       0\n",
       "toCoupon_GEQ25min       0\n",
       "direction_same          0\n",
       "direction_opp           0\n",
       "Y                       0\n",
       "dtype: int64"
      ]
     },
     "execution_count": 16,
     "metadata": {},
     "output_type": "execute_result"
    }
   ],
   "source": [
    "#data=data['Bar'].isnull().fillna(\"never\")\n",
    "#data=data.replace(r'^\\s*$', \"never\", regex=True)\n",
    "\n",
    "#Replacing the blank values with \"never\"\n",
    "data=data.replace(np.nan, \"never\", regex=True)\n",
    "data.shape\n",
    "\n",
    "#data=data.apply(lambda x: x.str.strip()).replace('', \"never\")\n",
    "data.isnull().sum()\n",
    "\n",
    "\n",
    "#newdata.head(520)\n",
    "#data.head(20)\n"
   ]
  },
  {
   "cell_type": "markdown",
   "metadata": {
    "id": "YE6oJbXd_qRI"
   },
   "source": [
    "4. What proportion of the total observations chose to accept the coupon?\n",
    "\n"
   ]
  },
  {
   "cell_type": "code",
   "execution_count": 18,
   "metadata": {
    "id": "86GGqBTv_qRI"
   },
   "outputs": [
    {
     "data": {
      "text/plain": [
       "0.5684326710816777"
      ]
     },
     "execution_count": 18,
     "metadata": {},
     "output_type": "execute_result"
    }
   ],
   "source": [
    "#sns.countplot(data=data,x='Y')\n",
    "#coupon_accept=data['Y'].value_counts(normalize=True)*100\n",
    "#print(coupon_accept)\n",
    "total_count=data.shape[0]\n",
    "accept_coupon_count=data.loc[data['Y']==1].shape[0]\n",
    "proportion_accept_coupon=(accept_coupon_count/total_count)\n",
    "proportion_accept_coupon\n",
    "\n",
    "#coupon_accept=data.query('Y==1').count()/data.shape[0]\n",
    "#print(coupon_accept)"
   ]
  },
  {
   "cell_type": "markdown",
   "metadata": {
    "id": "vflz0DoE_qRI"
   },
   "source": [
    "5. Use a bar plot to visualize the `coupon` column."
   ]
  },
  {
   "cell_type": "code",
   "execution_count": 20,
   "metadata": {
    "id": "dHFh3E45_qRI"
   },
   "outputs": [
    {
     "data": {
      "text/plain": [
       "<Axes: xlabel='coupon'>"
      ]
     },
     "execution_count": 20,
     "metadata": {},
     "output_type": "execute_result"
    },
    {
     "data": {
      "image/png": "[encoded data removed]",
      "text/plain": [
       "<Figure size 640x480 with 1 Axes>"
      ]
     },
     "metadata": {},
     "output_type": "display_data"
    }
   ],
   "source": [
    "total_coupon_count=data['coupon'].count()\n",
    "#total_coupon_count - 12684\n",
    "\n",
    "sns.barplot(data=data,x='coupon',hue='coupon')"
   ]
  },
  {
   "cell_type": "markdown",
   "metadata": {
    "id": "Qw4lCyx2_qRI"
   },
   "source": [
    "6. Use a histogram to visualize the temperature column."
   ]
  },
  {
   "cell_type": "code",
   "execution_count": 22,
   "metadata": {
    "id": "Yg9Anv71_qRI"
   },
   "outputs": [
    {
     "data": {
      "text/plain": [
       "array([[<Axes: title={'center': 'temperature'}>]], dtype=object)"
      ]
     },
     "execution_count": 22,
     "metadata": {},
     "output_type": "execute_result"
    },
    {
     "data": {
      "image/png": "[encoded data removed]",
      "text/plain": [
       "<Figure size 640x480 with 1 Axes>"
      ]
     },
     "metadata": {},
     "output_type": "display_data"
    }
   ],
   "source": [
    "data.hist(\"temperature\")"
   ]
  },
  {
   "cell_type": "code",
   "execution_count": null,
   "metadata": {
    "id": "zLtOaJQk_qRI"
   },
   "outputs": [],
   "source": []
  },
  {
   "cell_type": "code",
   "execution_count": null,
   "metadata": {
    "id": "7GBHZKBp_qRJ"
   },
   "outputs": [],
   "source": []
  },
  {
   "cell_type": "code",
   "execution_count": null,
   "metadata": {
    "id": "Y5nBUA-j_qRJ"
   },
   "outputs": [],
   "source": []
  },
  {
   "cell_type": "code",
   "execution_count": null,
   "metadata": {
    "id": "ShcUC-Vm_qRJ"
   },
   "outputs": [],
   "source": []
  },
  {
   "cell_type": "markdown",
   "metadata": {
    "id": "FupfgeJk_qRJ"
   },
   "source": [
    "**Investigating the Bar Coupons**\n",
    "\n",
    "Now, we will lead you through an exploration of just the bar related coupons.  \n",
    "\n",
    "1. Create a new `DataFrame` that contains just the bar coupons.\n"
   ]
  },
  {
   "cell_type": "code",
   "execution_count": 24,
   "metadata": {
    "id": "tMBlWuGq_qRJ"
   },
   "outputs": [
    {
     "data": {
      "text/plain": [
       "16"
      ]
     },
     "execution_count": 24,
     "metadata": {},
     "output_type": "execute_result"
    }
   ],
   "source": [
    "df_bar=data.loc[data['coupon']=='Bar']\n",
    "df_bar.shape[0] # total bar coupon - 2017\n",
    "\n",
    "#Total proportion of bar coupons out of total no. of coupon \n",
    "bar_coupon_proportion=round(df_bar.shape[0]*100/total_coupon_count)\n",
    "bar_coupon_proportion # Out of Total coupon distributed, bar coupon is 16% "
   ]
  },
  {
   "cell_type": "markdown",
   "metadata": {
    "id": "8ue6uCqf_qRJ"
   },
   "source": [
    "2. What proportion of bar coupons were accepted?\n"
   ]
  },
  {
   "cell_type": "code",
   "execution_count": 26,
   "metadata": {
    "id": "hSdte8Mi_qRK"
   },
   "outputs": [
    {
     "data": {
      "text/plain": [
       "41"
      ]
     },
     "execution_count": 26,
     "metadata": {},
     "output_type": "execute_result"
    }
   ],
   "source": [
    "df_bar=data.loc[data['coupon']=='Bar']\n",
    "total_bar_coupon=df_bar.shape[0]\n",
    "#total_bar_coupon\n",
    "accept_bar_coupon_count=df_bar.loc[df_bar['Y']==1].shape[0]\n",
    "accept_bar_coupon_count\n",
    "\n",
    "proportion_bar_accept_coupon=round(accept_bar_coupon_count*100/total_bar_coupon)\n",
    "proportion_bar_accept_coupon\n",
    "\n"
   ]
  },
  {
   "cell_type": "markdown",
   "metadata": {
    "id": "85nA_iEi_qRK"
   },
   "source": [
    "3. Compare the acceptance rate between those who went to a bar 3 or fewer times a month to those who went more.\n"
   ]
  },
  {
   "cell_type": "code",
   "execution_count": 98,
   "metadata": {
    "id": "LBOrN-XM_qRK"
   },
   "outputs": [
    {
     "name": "stderr",
     "output_type": "stream",
     "text": [
      "C:\\Users\\aphophalia\\AppData\\Local\\Temp\\ipykernel_308\\2138761197.py:34: UserWarning: set_ticklabels() should only be used with a fixed number of ticks, i.e. after set_ticks() or using a FixedLocator.\n",
      "  plot.set_xticklabels(plot.get_xticklabels(), rotation=75)\n"
     ]
    },
    {
     "data": {
      "image/png": "[encoded data removed]",
      "text/plain": [
       "<Figure size 640x480 with 1 Axes>"
      ]
     },
     "metadata": {},
     "output_type": "display_data"
    }
   ],
   "source": [
    "bar_3_or_fewer_list=['less1','never','1~3']\n",
    "\n",
    "# Drivers who visited the 3 or fewer times and accepted the coupon\n",
    "drivers_visited_bar_3_or_less_accepted_coupon=df_bar.query('Y==1 and Bar in @bar_3_or_fewer_list')\n",
    "\n",
    "\n",
    "\n",
    "#Acceptance rate of Drivers who visited the 3 or fewer times and accepted the coupon with total no. of bar coupons accepted\n",
    "acceptance_rate_bar_3_or_less_accepted_coupon=round(drivers_visited_bar_3_or_less_accepted_coupon.shape[0]*100/accept_bar_coupon_count)\n",
    "\n",
    "acceptance_rate_bar_3_or_less_accepted_coupon # 81% is the acceptance rate\n",
    "\n",
    "#################################################################################\n",
    "# Drivers who visited bar more than 3 times and accepted the coupon\n",
    "drivers_visited_bar_more_than_3_accepted_coupon=df_bar.query('Y==1 and Bar not in @bar_3_or_fewer_list')\n",
    "drivers_visited_bar_more_than_3_accepted_coupon.shape[0]\n",
    "\n",
    "\n",
    "#Acceptance rate of Drivers who visited the 3 or fewer times and accepted the coupon with total no. of bar coupons accepted\n",
    "acceptance_rate_bar_more_than_3_accepted_coupon=round(drivers_visited_bar_more_than_3_accepted_coupon.shape[0]*100/accept_bar_coupon_count)\n",
    "\n",
    "acceptance_rate_bar_more_than_3_accepted_coupon # 19% is the acceptance rate \n",
    "\n",
    "###################################### Plotting #####################################################\n",
    "data_new = {\n",
    "    'Category': ['acceptance_rate_bar_3_or_less_accepted_coupon','acceptance_rate_bar_more_than_3_accepted_coupon'],\n",
    "    'AcceptanceRate': [acceptance_rate_bar_3_or_less_accepted_coupon,acceptance_rate_bar_more_than_3_accepted_coupon]\n",
    "    \n",
    "}\n",
    "df_3=pd.DataFrame(data_new)\n",
    "\n",
    "plot=sns.barplot(df_3,x='Category',y='AcceptanceRate',hue='Category')\n",
    "\n",
    "plot.set_xticklabels(plot.get_xticklabels(), rotation=75)\n",
    "\n",
    "plt.show()\n"
   ]
  },
  {
   "cell_type": "markdown",
   "metadata": {
    "id": "RBgcQwH4_qRK"
   },
   "source": [
    "4. Compare the acceptance rate between drivers who go to a bar more than once a month and are over the age of 25 to the all others.  Is there a difference?\n"
   ]
  },
  {
   "cell_type": "code",
   "execution_count": 102,
   "metadata": {},
   "outputs": [
    {
     "data": {
      "text/plain": [
       "16"
      ]
     },
     "execution_count": 102,
     "metadata": {},
     "output_type": "execute_result"
    }
   ],
   "source": [
    "df_bar=data.loc[data['coupon']=='Bar']\n",
    "bar_freq=['never','less1']\n",
    "age_query_list=['21','below21']\n",
    "\n",
    "\n",
    "#Drivers who accepted the BAR coupon\n",
    "all_others_who_accepted_bar_coupon=df_bar.query('Y==1')\n",
    "\n",
    "\n",
    "# Drivers who visited bar less than once a month and under the age of 25 and \"Accepted the coupon\" \n",
    "drivers_bar_less_than_once_month_below_25_accepted_coupon = df_bar.query('Y==1 and Bar in @bar_freq and age in @age_query_list')\n",
    "drivers_bar_less_than_once_month_below_25_accepted_coupon\n",
    "\n",
    "#Acceptance rate of Drivers who visited Bar less than once a month and below 25 with a total no. of bar coupons accepted\n",
    "acceptance_rate_bar_less_than_once_month_below_25=round(drivers_bar_less_than_once_month_below_25_accepted_coupon.shape[0]*100/all_others_who_accepted_bar_coupon.shape[0])\n",
    "acceptance_rate_bar_less_than_once_month_below_25"
   ]
  },
  {
   "cell_type": "code",
   "execution_count": null,
   "metadata": {
    "id": "bf28bbeX_qRK"
   },
   "outputs": [],
   "source": [
    "df_bar=data.loc[data['coupon']=='Bar']\n",
    "bar_freq=['never','less1']\n",
    "age_query_list=['21','below21']\n",
    "\n",
    "\n",
    "#Drivers who accepted the BAR coupon\n",
    "all_others_who_accepted_bar_coupon=df_bar.query('Y==1')\n",
    "\n",
    "\n",
    "# Drivers who visited bar more than once a month and over the age of 25 and \"Accepted the coupon\" \n",
    "drivers_bar_more_than_once_month_over_25_accepted_coupon = df_bar.query('Y==1 and Bar not in @bar_freq and age not in @age_query_list')\n",
    "\n",
    "#Acceptance rate of of Drivers who visited Bar more than once a month and over 25 with total no. of bar coupons accepted\n",
    "acceptance_rate_bar_more_than_once_month_over_25=round(drivers_bar_more_than_once_month_over_25_accepted_coupon.shape[0]*100/all_others_who_accepted_bar_coupon.shape[0])\n",
    "acceptance_rate_bar_more_than_once_month_over_25 # 35%\n",
    "\n",
    "# Drivers who visited bar less than once a month and under the age of 25 and \"Accepted the coupon\" \n",
    "drivers_bar_less_than_once_month_below_25_accepted_coupon = df_bar.query('Y==1 and Bar in @bar_freq and age in @age_query_list')\n",
    "drivers_bar_less_than_once_month_below_25_accepted_coupon\n",
    "\n",
    "#Acceptance rate of Drivers who visited Bar less than once a month and below 25 with a total no. of bar coupons accepted\n",
    "acceptance_rate_bar_less_than_once_month_below_25=round(drivers_bar_less_than_once_month_below_25_accepted_coupon.shape[0]*100/all_others_who_accepted_bar_coupon.shape[0])\n",
    "acceptance_rate_bar_less_than_once_month_below_25 # 16%\n",
    "#================================================Comparison#############################################################\n",
    "data_new = {\n",
    "    'Category': ['acceptance_rate_bar_less_than_once_month_below_25', 'acceptance_rate_bar_more_than_once_month_over_25'],\n",
    "    'AcceptanceRate': [acceptance_rate_bar_less_than_once_month_below_25,acceptance_rate_bar_more_than_once_month_over_25]\n",
    "    \n",
    "}\n",
    "df_3=pd.DataFrame(data_new)\n",
    "\n",
    "plot= sns.barplot(df_3,x='Category',y='AcceptanceRate',hue='Category')\n",
    "\n",
    "plot.set_xticklabels(plot.get_xticklabels(), rotation=75)\n",
    "\n",
    "plt.show()"
   ]
  },
  {
   "cell_type": "markdown",
   "metadata": {
    "id": "S4RKT4PJ_qRK"
   },
   "source": [
    "5. Use the same process to compare the acceptance rate between drivers who go to bars more than once a month and had passengers that were not a kid and had occupations other than farming, fishing, or forestry.\n"
   ]
  },
  {
   "cell_type": "code",
   "execution_count": null,
   "metadata": {
    "id": "sENaI2Tg_qRK"
   },
   "outputs": [],
   "source": [
    "bar_freq=['never','less1']\n",
    "\n",
    "#Drivers who go to bars more than once a month and had passengers that were not a kid and had occupations other than farming, fishing, or forestry.\n",
    "drivers_bar_more_than_once_month_no_kid_no_farming_fishery_forestry = df_bar.query('Y==1 and Bar not in @bar_freq and passanger != \"Kid(s)\" and occupation != \"Farming Fishing & Forestry\"')\n",
    "drivers_bar_more_than_once_month_no_kid_no_farming_fishery_forestry\n",
    "\n",
    "#Acceptance rate of of Drivers who visited Bar more than once a month with no kid  and had occupations other than farming, fishing, or forestry with total no. of bar coupons accepted\n",
    "acceptance_rate_drivers_bar_more_than_once_month_no_kid_no_farming_fishery_forestry=round(drivers_bar_more_than_once_month_no_kid_no_farming_fishery_forestry.shape[0]*100/all_others_who_accepted_bar_coupon.shape[0])\n",
    "acceptance_rate_drivers_bar_more_than_once_month_no_kid_no_farming_fishery_forestry # 48%\n",
    "\n",
    "#All other Drivers who don't go to bars more than once a month and had passengers that were  a kid and had occupations like farming, fishing, or forestry.\n",
    "drivers_bar_less_than_once_month_with_kid_occuptation_is_farming_fishery_forestry = df_bar.query('Y==1 and Bar in @bar_freq and passanger == \"Kid(s)\" and occupation == \"Farming Fishing & Forestry\"')\n",
    "drivers_bar_less_than_once_month_with_kid_occuptation_is_farming_fishery_forestry\n",
    "\n",
    "#Acceptance rate of those who don't go to bars more than once a month and had passengers that were  a kid and had occupations like farming, fishing, or forestry with total no. of bar coupons accepted\n",
    "acceptance_rate_drivers_bar_less_than_once_month_with_kid_occuptation_is_farming_fishery_forestry=round(drivers_bar_less_than_once_month_with_kid_occuptation_is_farming_fishery_forestry.shape[0]*100/all_others_who_accepted_bar_coupon.shape[0])\n",
    "acceptance_rate_drivers_bar_less_than_once_month_with_kid_occuptation_is_farming_fishery_forestry # 0% - 0.12%\n",
    "#===========================================Plotting=================================\n",
    "data_new = {\n",
    "    'Category': ['acceptance_rate_drivers_bar_less_than_once_month_with_kid_occuptation_is_farming_fishery_forestry', 'acceptance_rate_drivers_bar_more_than_once_month_no_kid_no_farming_fishery_forestry'],\n",
    "    'AcceptanceRate': [acceptance_rate_drivers_bar_less_than_once_month_with_kid_occuptation_is_farming_fishery_forestry,acceptance_rate_drivers_bar_more_than_once_month_no_kid_no_farming_fishery_forestry]\n",
    "    \n",
    "}\n",
    "df_3=pd.DataFrame(data_new)\n",
    "\n",
    "plot= sns.barplot(df_3,x='Category',y='AcceptanceRate',hue='Category')\n",
    "\n",
    "plot.set_xticklabels(plot.get_xticklabels(), rotation=75)\n",
    "\n",
    "plt.show()\n"
   ]
  },
  {
   "cell_type": "code",
   "execution_count": 104,
   "metadata": {},
   "outputs": [
    {
     "data": {
      "text/html": [
       "<div>\n",
       "<style scoped>\n",
       "    .dataframe tbody tr th:only-of-type {\n",
       "        vertical-align: middle;\n",
       "    }\n",
       "\n",
       "    .dataframe tbody tr th {\n",
       "        vertical-align: top;\n",
       "    }\n",
       "\n",
       "    .dataframe thead th {\n",
       "        text-align: right;\n",
       "    }\n",
       "</style>\n",
       "<table border=\"1\" class=\"dataframe\">\n",
       "  <thead>\n",
       "    <tr style=\"text-align: right;\">\n",
       "      <th></th>\n",
       "      <th>coupon</th>\n",
       "    </tr>\n",
       "    <tr>\n",
       "      <th>occupation</th>\n",
       "      <th></th>\n",
       "    </tr>\n",
       "  </thead>\n",
       "  <tbody>\n",
       "    <tr>\n",
       "      <th>Architecture &amp; Engineering</th>\n",
       "      <td>18</td>\n",
       "    </tr>\n",
       "    <tr>\n",
       "      <th>Arts Design Entertainment Sports &amp; Media</th>\n",
       "      <td>33</td>\n",
       "    </tr>\n",
       "    <tr>\n",
       "      <th>Building &amp; Grounds Cleaning &amp; Maintenance</th>\n",
       "      <td>2</td>\n",
       "    </tr>\n",
       "    <tr>\n",
       "      <th>Business &amp; Financial</th>\n",
       "      <td>41</td>\n",
       "    </tr>\n",
       "    <tr>\n",
       "      <th>Community &amp; Social Services</th>\n",
       "      <td>13</td>\n",
       "    </tr>\n",
       "    <tr>\n",
       "      <th>Computer &amp; Mathematical</th>\n",
       "      <td>87</td>\n",
       "    </tr>\n",
       "    <tr>\n",
       "      <th>Construction &amp; Extraction</th>\n",
       "      <td>13</td>\n",
       "    </tr>\n",
       "    <tr>\n",
       "      <th>Education&amp;Training&amp;Library</th>\n",
       "      <td>40</td>\n",
       "    </tr>\n",
       "    <tr>\n",
       "      <th>Farming Fishing &amp; Forestry</th>\n",
       "      <td>4</td>\n",
       "    </tr>\n",
       "    <tr>\n",
       "      <th>Food Preparation &amp; Serving Related</th>\n",
       "      <td>23</td>\n",
       "    </tr>\n",
       "    <tr>\n",
       "      <th>Healthcare Practitioners &amp; Technical</th>\n",
       "      <td>18</td>\n",
       "    </tr>\n",
       "    <tr>\n",
       "      <th>Healthcare Support</th>\n",
       "      <td>29</td>\n",
       "    </tr>\n",
       "    <tr>\n",
       "      <th>Installation Maintenance &amp; Repair</th>\n",
       "      <td>8</td>\n",
       "    </tr>\n",
       "    <tr>\n",
       "      <th>Legal</th>\n",
       "      <td>12</td>\n",
       "    </tr>\n",
       "    <tr>\n",
       "      <th>Life Physical Social Science</th>\n",
       "      <td>15</td>\n",
       "    </tr>\n",
       "    <tr>\n",
       "      <th>Management</th>\n",
       "      <td>65</td>\n",
       "    </tr>\n",
       "    <tr>\n",
       "      <th>Office &amp; Administrative Support</th>\n",
       "      <td>53</td>\n",
       "    </tr>\n",
       "    <tr>\n",
       "      <th>Personal Care &amp; Service</th>\n",
       "      <td>10</td>\n",
       "    </tr>\n",
       "    <tr>\n",
       "      <th>Production Occupations</th>\n",
       "      <td>12</td>\n",
       "    </tr>\n",
       "    <tr>\n",
       "      <th>Protective Service</th>\n",
       "      <td>13</td>\n",
       "    </tr>\n",
       "    <tr>\n",
       "      <th>Retired</th>\n",
       "      <td>18</td>\n",
       "    </tr>\n",
       "    <tr>\n",
       "      <th>Sales &amp; Related</th>\n",
       "      <td>80</td>\n",
       "    </tr>\n",
       "    <tr>\n",
       "      <th>Student</th>\n",
       "      <td>120</td>\n",
       "    </tr>\n",
       "    <tr>\n",
       "      <th>Transportation &amp; Material Moving</th>\n",
       "      <td>9</td>\n",
       "    </tr>\n",
       "    <tr>\n",
       "      <th>Unemployed</th>\n",
       "      <td>91</td>\n",
       "    </tr>\n",
       "  </tbody>\n",
       "</table>\n",
       "</div>"
      ],
      "text/plain": [
       "                                           coupon\n",
       "occupation                                       \n",
       "Architecture & Engineering                     18\n",
       "Arts Design Entertainment Sports & Media       33\n",
       "Building & Grounds Cleaning & Maintenance       2\n",
       "Business & Financial                           41\n",
       "Community & Social Services                    13\n",
       "Computer & Mathematical                        87\n",
       "Construction & Extraction                      13\n",
       "Education&Training&Library                     40\n",
       "Farming Fishing & Forestry                      4\n",
       "Food Preparation & Serving Related             23\n",
       "Healthcare Practitioners & Technical           18\n",
       "Healthcare Support                             29\n",
       "Installation Maintenance & Repair               8\n",
       "Legal                                          12\n",
       "Life Physical Social Science                   15\n",
       "Management                                     65\n",
       "Office & Administrative Support                53\n",
       "Personal Care & Service                        10\n",
       "Production Occupations                         12\n",
       "Protective Service                             13\n",
       "Retired                                        18\n",
       "Sales & Related                                80\n",
       "Student                                       120\n",
       "Transportation & Material Moving                9\n",
       "Unemployed                                     91"
      ]
     },
     "execution_count": 104,
     "metadata": {},
     "output_type": "execute_result"
    }
   ],
   "source": [
    "# Grouping by the Occupation, to identify the occupation of the drivers who accepted the coupon most\n",
    "all_others_who_accepted_bar_coupon.groupby('occupation').count()[['coupon']] #Student"
   ]
  },
  {
   "cell_type": "markdown",
   "metadata": {
    "id": "n2LIUTil_qRK"
   },
   "source": [
    "6. Compare the acceptance rates between those drivers who:\n",
    "\n",
    "- go to bars more than once a month, had passengers that were not a kid, and were not widowed *OR*\n",
    "- go to bars more than once a month and are under the age of 30 *OR*\n",
    "- go to cheap restaurants more than 4 times a month and income is less than 50K.\n",
    "\n"
   ]
  },
  {
   "cell_type": "code",
   "execution_count": null,
   "metadata": {
    "id": "aK_wEzx7_qRK"
   },
   "outputs": [],
   "source": [
    "bar_freq=['never','less1']\n",
    "not_widowed_list=['Single','Unmarried partner']\n",
    "\n",
    "#Drivers who go to bars more than once a month, had passengers who were not a kid, and were not widowed\n",
    "drivers_bar_more_than_once_month_no_kid_not_widowed = df_bar.query('Y==1 and Bar not in @bar_freq and passanger != \"Kid(s)\" and maritalStatus == \"Married partner\"')\n",
    "#drivers_bar_more_than_once_month_no_kid_not_widowed\n",
    "\n",
    "#Acceptance rate for Drivers who go to bars more than once a month, had passengers who were not a kid, and were not widowed with total no. of bar coupons accepted\n",
    "acceptance_rate_drivers_bar_more_than_once_month_no_kid_not_widowed=round(drivers_bar_more_than_once_month_no_kid_not_widowed.shape[0]*100/all_others_who_accepted_bar_coupon.shape[0])\n",
    "#acceptance_rate_drivers_bar_more_than_once_month_no_kid_not_widowed - 13%\n",
    "\n",
    "\n",
    "#Drivers who go to bars less than once a month, had passengers that were a kid, and were widowed\n",
    "drivers_bar_less_than_once_month_with_kid_and_widowed = df_bar.query('Y==1 and Bar in @bar_freq and passanger == \"Kid(s)\" and maritalStatus in @ not_widowed_list')\n",
    "#drivers_bar_less_than_once_month_with_kid_and_widowed\n",
    "\n",
    "#Acceptance rate for Drivers who go to bars less than once a month, had passengers that were a kid, and were widowed with total no. of bar coupons accepted\n",
    "acceptance_rate_drivers_bar_less_than_once_month_with_kid_and_widowed=round(drivers_bar_less_than_once_month_with_kid_and_widowed.shape[0]*100/all_others_who_accepted_bar_coupon.shape[0])\n",
    "#acceptance_rate_drivers_bar_less_than_once_month_with_kid_and_widowed - 1%\n",
    "\n",
    "#===========================================Plotting=================================\n",
    "data_new = {\n",
    "    'Category': ['acceptance_rate_drivers_bar_less_than_once_month_with_kid_and_widowed', 'acceptance_rate_drivers_bar_more_than_once_month_no_kid_not_widowed'],\n",
    "    'AcceptanceRate': [acceptance_rate_drivers_bar_less_than_once_month_with_kid_and_widowed,acceptance_rate_drivers_bar_more_than_once_month_no_kid_not_widowed]\n",
    "    \n",
    "}\n",
    "df_3=pd.DataFrame(data_new)\n",
    "\n",
    "plot=sns.barplot(df_3,x='Category',y='AcceptanceRate',hue='Category')\n",
    "\n",
    "plot.set_xticklabels(plot.get_xticklabels(), rotation=75)\n",
    "\n",
    "plt.show()\n"
   ]
  },
  {
   "cell_type": "markdown",
   "metadata": {
    "id": "v3fL3QkO_qRK"
   },
   "source": [
    "7.  Based on these observations, what do you hypothesize about drivers who accepted the bar coupons?"
   ]
  },
  {
   "cell_type": "code",
   "execution_count": null,
   "metadata": {
    "id": "Y48naDFh_qRL"
   },
   "outputs": [],
   "source": [
    "################################################################Analysis###############################################\n",
    "#Coupon Type- 'Bar'\n",
    "#==========================\n",
    "# Here are some raw observation based on the above data analysis : \n",
    "#\t1. Out of total coupon distributed, bar coupon totals up to 16%\n",
    "#\t2. Out of 16% of total bar coupons, 41% of bar coupon was accepted by customers\n",
    "#\t3. Acceptance rate is higher i.e 81% from the customers who visited the bar 3 or less times compare to 18% of the drivers who has previously visited bar more than 3 times\n",
    "#\t4. Acceptance rate is higher i.e 35% among the Drivers who are above 25 years old and go to bar more than once a month compare to 16% of the drivers who are below 25 and go to bar less than once a month\n",
    "#\t5. Acceptance rate is almost 0% among the drivers with Kids as passenger and who go to bar less than once a month with occupation like Farming,Fishing,Forestry compare of 48% among drivers without kids and who go to bar more than once a month and occupation other than Farming, Forestry and fishing \n",
    "#   6. Acceptance rate is higher i.e 13% among the drivers who visted bar more than once a month and are not widowed and no passenger as kid compare to 1%\n",
    "\n",
    "###################In the context of Bar Coupons, here is the summary of my hypothesis###########################################\n",
    "\n",
    "#\t1. Given a Bar coupon, the acceptance rate is moderate i.e 41% among all the drivers in the Dataset.  Chances of People who has not been to bar very often (i.e 3 or less) are high (i.e 81%) compare to drivers who goes to bar more often (more than 3 times) . \n",
    "#   2. Chances of drivers accepting the coupon is more who go to bar more than once a month provided \n",
    "#\t3. If they are above the age of 25\n",
    "#\t4. When they don't have Kids as passenger : \n",
    "#\t\ta. occupation other than Farming, Forestry and fishing tends to accept coupons\n",
    "#\t\tb. Are Not widowed \n",
    "#   5. Drivers with Kids as passenger has less than 1% acceptance rate\n",
    "#   6. max. no drivers who accepted the coupon are Students by occupation (count- 120) "
   ]
  },
  {
   "cell_type": "markdown",
   "metadata": {
    "id": "r4Hu1zOb_qRL"
   },
   "source": [
    "### Independent Investigation\n",
    "\n",
    "Using the bar coupon example as motivation, you are to explore one of the other coupon groups and try to determine the characteristics of passengers who accept the coupons.  "
   ]
  },
  {
   "cell_type": "code",
   "execution_count": null,
   "metadata": {
    "id": "0c71cQhu_qRL"
   },
   "outputs": [],
   "source": [
    "#Indepndent analysis of the coupon type \"Restaurant(20-50) or we will call it as expensive restaurant\" "
   ]
  },
  {
   "cell_type": "code",
   "execution_count": 36,
   "metadata": {
    "id": "QEsBkvIN_qRL"
   },
   "outputs": [
    {
     "data": {
      "text/plain": [
       "12"
      ]
     },
     "execution_count": 36,
     "metadata": {},
     "output_type": "execute_result"
    }
   ],
   "source": [
    "# New DataFrame that contains just the \"Restaurant(20-50)\" coupons.\n",
    "df_restaurant_20_50=data.loc[data['coupon']=='Restaurant(20-50)']\n",
    "total_restaurant_20_50=df_restaurant_20_50.shape[0] # total restaurant coupon - 1492\n",
    "total_restaurant_20_50\n",
    "\n",
    "#Total proportion of Restaurant(20-50) coupons out of total no. of coupon \n",
    "restaurant_20_50_coupon_proportion=round(df_restaurant_20_50.shape[0]*100/total_coupon_count)\n",
    "restaurant_20_50_coupon_proportion # Out of Total coupon distributed, bar coupon is 12% "
   ]
  },
  {
   "cell_type": "code",
   "execution_count": 40,
   "metadata": {
    "id": "fTC2WGE3_qRL"
   },
   "outputs": [
    {
     "data": {
      "text/plain": [
       "44"
      ]
     },
     "execution_count": 40,
     "metadata": {},
     "output_type": "execute_result"
    }
   ],
   "source": [
    "#proportion of Restaurant(20-50) coupons were accepted?\n",
    "\n",
    "all_others_who_accepted_restaurant_20_50_count=df_restaurant_20_50.loc[df_restaurant_20_50['Y']==1].shape[0]\n",
    "all_others_who_accepted_restaurant_20_50_count # 658\n",
    "\n",
    "proportion_restaurant_20_50_accept_coupon=round(all_others_who_accepted_restaurant_20_50_count*100/total_restaurant_20_50)\n",
    "proportion_restaurant_20_50_accept_coupon"
   ]
  },
  {
   "cell_type": "code",
   "execution_count": null,
   "metadata": {
    "id": "RrqUWn7d_qRL"
   },
   "outputs": [],
   "source": [
    "#acceptance rate between those who went to a Expensive restaurant 3 or fewer times a month to those who went more.\n",
    "\n",
    "expensive_restaurant_freq=['less1','never','1~3']\n",
    "\n",
    "# Drivers who visited Expensive restaurant less than 3 times and accepted the coupon\n",
    "drivers_visited_exp_restaurant_fewer_than_3_accepted_coupon=df_restaurant_20_50.query('Y==1 and Restaurant20To50 in @expensive_restaurant_freq')\n",
    "#drivers_visited_exp_restaurant_fewer_than_3_accepted_coupon.shape[0] # 579\n",
    "\n",
    "\n",
    "#Acceptance rate of Drivers who visited Expensive restaurant 3 or fewer times and accepted the coupon with total no. of expensive restaraunt coupons accepted\n",
    "acceptance_rate_exp_restaurant_fewer_than_3_accepted_coupon=round(drivers_visited_exp_restaurant_fewer_than_3_accepted_coupon.shape[0]*100/all_others_who_accepted_restaurant_20_50_count)\n",
    "\n",
    "acceptance_rate_exp_restaurant_fewer_than_3_accepted_coupon # 88% is the acceptance \n",
    "\n",
    "# Drivers who visited Expensive restaurant more than 3 times and accepted the coupon\n",
    "drivers_visited_exp_restaurant_more_than_3_accepted_coupon=df_restaurant_20_50.query('Y==1 and Restaurant20To50 not in @expensive_restaurant_freq')\n",
    "drivers_visited_exp_restaurant_more_than_3_accepted_coupon.shape[0] # 79\n",
    "\n",
    "\n",
    "#Acceptance rate of Drivers who visited the more than 3 times and accepted the coupon with total no. of expensive restaurant coupons accepted\n",
    "acceptance_rate_exp_restaurant_more_than_3_accepted_coupon=round(drivers_visited_exp_restaurant_more_than_3_accepted_coupon.shape[0]*100/all_others_who_accepted_restaurant_20_50_count)\n",
    "\n",
    "acceptance_rate_exp_restaurant_more_than_3_accepted_coupon # 12% is the acceptance rate \n",
    "\n",
    "###################################### Plotting #####################################################\n",
    "data_new = {\n",
    "    'Category': ['acceptance_rate_exp_restaurant_fewer_than_3_accepted_coupon','acceptance_rate_exp_restaurant_more_than_3_accepted_coupon'],\n",
    "    'AcceptanceRate': [acceptance_rate_exp_restaurant_fewer_than_3_accepted_coupon,acceptance_rate_exp_restaurant_more_than_3_accepted_coupon]\n",
    "    \n",
    "}\n",
    "df_3=pd.DataFrame(data_new)\n",
    "\n",
    "plot= sns.barplot(df_3,x='Category',y='AcceptanceRate',hue='Category')\n",
    "\n",
    "plot.set_xticklabels(plot.get_xticklabels(), rotation=75)\n",
    "\n",
    "plt.show()\n"
   ]
  },
  {
   "cell_type": "code",
   "execution_count": null,
   "metadata": {
    "id": "_oykf8YP_qRL"
   },
   "outputs": [],
   "source": [
    "#Acceptance rate between drivers who go to a bar more than once a month and are over the age of 25 to the all others. "
   ]
  },
  {
   "cell_type": "code",
   "execution_count": 48,
   "metadata": {},
   "outputs": [
    {
     "name": "stderr",
     "output_type": "stream",
     "text": [
      "C:\\Users\\aphophalia\\AppData\\Local\\Temp\\ipykernel_308\\3343820282.py:28: UserWarning: set_ticklabels() should only be used with a fixed number of ticks, i.e. after set_ticks() or using a FixedLocator.\n",
      "  plot.set_xticklabels(plot.get_xticklabels(), rotation=75)\n"
     ]
    },
    {
     "data": {
      "image/png": "[encoded data removed]",
      "text/plain": [
       "<Figure size 640x480 with 1 Axes>"
      ]
     },
     "metadata": {},
     "output_type": "display_data"
    }
   ],
   "source": [
    "expensive_restaurant_freq=['less1','never']\n",
    "age_query_list=['21','below21']\n",
    "\n",
    "# Drivers who visited Expensive restaurant more than once a month and over the age of 25 and \"Accepted the coupon\" \n",
    "drivers_expensive_restaurant_more_than_once_month_over_25_accepted_coupon = df_restaurant_20_50.query('Y==1 and Restaurant20To50 not in @expensive_restaurant_freq and age not in @age_query_list')\n",
    "\n",
    "#Acceptance rate of Drivers who visited Expensive restaurant more than once a month and over 25 with total no. of bar coupons accepted\n",
    "acceptance_rate_expensive_restaurant_more_than_once_month_over_25_accepted_coupon=round(drivers_expensive_restaurant_more_than_once_month_over_25_accepted_coupon.shape[0]*100/all_others_who_accepted_restaurant_20_50_count)\n",
    "acceptance_rate_expensive_restaurant_more_than_once_month_over_25_accepted_coupon # 34%\n",
    "\n",
    "# Drivers who visited Expensive restaurant less than once a month and under the age of 25 and \"Accepted the coupon\" \n",
    "drivers_expensive_restaurant_less_than_once_month_over_25_accepted_coupon = df_restaurant_20_50.query('Y==1 and Restaurant20To50 in @expensive_restaurant_freq and age  in @age_query_list')\n",
    "drivers_expensive_restaurant_less_than_once_month_over_25_accepted_coupon #97\n",
    "\n",
    "#Acceptance rate of Drivers who visited Bar less than once a month and below 25 with a total no. of bar coupons accepted\n",
    "acceptance_rate_expensive_restaurant_less_than_once_month_below_25_accepted_coupon=round(drivers_expensive_restaurant_less_than_once_month_over_25_accepted_coupon.shape[0]*100/all_others_who_accepted_restaurant_20_50_count)\n",
    "acceptance_rate_expensive_restaurant_less_than_once_month_below_25_accepted_coupon # 15%\n",
    "#================================================Comparison#############################################################\n",
    "data_new = {\n",
    "    'Category': ['acceptance_rate_expensive_restaurant_more_than_once_month_over_25_accepted_coupon', 'acceptance_rate_expensive_restaurant_less_than_once_month_below_25_accepted_coupon'],\n",
    "    'AcceptanceRate': [acceptance_rate_expensive_restaurant_more_than_once_month_over_25_accepted_coupon,acceptance_rate_expensive_restaurant_less_than_once_month_below_25_accepted_coupon]\n",
    "    \n",
    "}\n",
    "df_3=pd.DataFrame(data_new)\n",
    "\n",
    "plot= sns.barplot(df_3,x='Category',y='AcceptanceRate',hue='Category')\n",
    "\n",
    "plot.set_xticklabels(plot.get_xticklabels(), rotation=75)\n",
    "\n",
    "plt.show()"
   ]
  },
  {
   "cell_type": "code",
   "execution_count": null,
   "metadata": {},
   "outputs": [],
   "source": [
    "#acceptance rate between drivers who go to bars more than once a month and had passengers that were not a kid and had occupations other than farming, fishing, or forestry."
   ]
  },
  {
   "cell_type": "code",
   "execution_count": null,
   "metadata": {},
   "outputs": [],
   "source": [
    "#Drivers who go to Expensive restaurant more than once a month and had passengers that were not a kid and had occupations other than farming, fishing, or forestry.\n",
    "drivers_expensive_restaurant_more_than_once_month_no_kid_no_farming_fishery_forestry = df_restaurant_20_50.query('Y==1 and Restaurant20To50 not in @expensive_restaurant_freq and passanger != \"Kid(s)\" and occupation != \"Farming Fishing & Forestry\"')\n",
    "drivers_expensive_restaurant_more_than_once_month_no_kid_no_farming_fishery_forestry.shape[0] #255\n",
    "\n",
    "#Acceptance rate of of Drivers who visited Expensive restaurant more than once a month with no kid  and had occupations other than farming, fishing, or forestry with total no. of bar coupons accepted\n",
    "acceptance_rate_drivers_expensive_restaurant_more_than_once_month_no_kid_no_farming_fishery_forestry=round(drivers_expensive_restaurant_more_than_once_month_no_kid_no_farming_fishery_forestry.shape[0]*100/all_others_who_accepted_restaurant_20_50_count)\n",
    "acceptance_rate_drivers_expensive_restaurant_more_than_once_month_no_kid_no_farming_fishery_forestry # 39%\n",
    "\n",
    "#All other Drivers who don't go to Expensive restaurant more than once a month and had passengers that were  a kid and had occupations like farming, fishing, or forestry.\n",
    "drivers_expensive_restaurant_less_than_once_month_with_kid_occuptation_is_farming_fishery_forestry = df_restaurant_20_50.query('Y==1 and Restaurant20To50 in @expensive_restaurant_freq and passanger == \"Kid(s)\" and occupation == \"Farming Fishing & Forestry\"')\n",
    "drivers_expensive_restaurant_less_than_once_month_with_kid_occuptation_is_farming_fishery_forestry # 0 \n",
    "\n",
    "#Acceptance rate of those who don't go to Expensive restaurant more than once a month and had passengers that were  a kid and had occupations like farming, fishing, or forestry with total no. of bar coupons accepted\n",
    "acceptance_rate_drivers_expensive_restaurant_less_than_once_month_with_kid_occuptation_is_farming_fishery_forestry=round(drivers_expensive_restaurant_less_than_once_month_with_kid_occuptation_is_farming_fishery_forestry.shape[0]*100/all_others_who_accepted_restaurant_20_50_count)\n",
    "acceptance_rate_drivers_expensive_restaurant_less_than_once_month_with_kid_occuptation_is_farming_fishery_forestry # 0% - 0.12%\n",
    "#===========================================Plotting=================================\n",
    "data_new = {\n",
    "    'Category': ['acceptance_rate_drivers_expensive_restaurant_less_than_once_month_with_kid_occuptation_is_farming_fishery_forestry', 'acceptance_rate_drivers_expensive_restaurant_more_than_once_month_no_kid_no_farming_fishery_forestry'],\n",
    "    'AcceptanceRate': [acceptance_rate_drivers_expensive_restaurant_less_than_once_month_with_kid_occuptation_is_farming_fishery_forestry,acceptance_rate_drivers_expensive_restaurant_more_than_once_month_no_kid_no_farming_fishery_forestry]\n",
    "    \n",
    "}\n",
    "df_3=pd.DataFrame(data_new)\n",
    "\n",
    "plot= sns.barplot(df_3,x='Category',y='AcceptanceRate',hue='Category')\n",
    "\n",
    "plot.set_xticklabels(plot.get_xticklabels(), rotation=75)\n",
    "\n",
    "plt.show()"
   ]
  },
  {
   "cell_type": "code",
   "execution_count": 94,
   "metadata": {},
   "outputs": [
    {
     "data": {
      "text/html": [
       "<div>\n",
       "<style scoped>\n",
       "    .dataframe tbody tr th:only-of-type {\n",
       "        vertical-align: middle;\n",
       "    }\n",
       "\n",
       "    .dataframe tbody tr th {\n",
       "        vertical-align: top;\n",
       "    }\n",
       "\n",
       "    .dataframe thead th {\n",
       "        text-align: right;\n",
       "    }\n",
       "</style>\n",
       "<table border=\"1\" class=\"dataframe\">\n",
       "  <thead>\n",
       "    <tr style=\"text-align: right;\">\n",
       "      <th></th>\n",
       "      <th>coupon</th>\n",
       "    </tr>\n",
       "    <tr>\n",
       "      <th>occupation</th>\n",
       "      <th></th>\n",
       "    </tr>\n",
       "  </thead>\n",
       "  <tbody>\n",
       "    <tr>\n",
       "      <th>Architecture &amp; Engineering</th>\n",
       "      <td>8</td>\n",
       "    </tr>\n",
       "    <tr>\n",
       "      <th>Arts Design Entertainment Sports &amp; Media</th>\n",
       "      <td>26</td>\n",
       "    </tr>\n",
       "    <tr>\n",
       "      <th>Building &amp; Grounds Cleaning &amp; Maintenance</th>\n",
       "      <td>3</td>\n",
       "    </tr>\n",
       "    <tr>\n",
       "      <th>Business &amp; Financial</th>\n",
       "      <td>28</td>\n",
       "    </tr>\n",
       "    <tr>\n",
       "      <th>Community &amp; Social Services</th>\n",
       "      <td>10</td>\n",
       "    </tr>\n",
       "    <tr>\n",
       "      <th>Computer &amp; Mathematical</th>\n",
       "      <td>88</td>\n",
       "    </tr>\n",
       "    <tr>\n",
       "      <th>Construction &amp; Extraction</th>\n",
       "      <td>13</td>\n",
       "    </tr>\n",
       "    <tr>\n",
       "      <th>Education&amp;Training&amp;Library</th>\n",
       "      <td>43</td>\n",
       "    </tr>\n",
       "    <tr>\n",
       "      <th>Farming Fishing &amp; Forestry</th>\n",
       "      <td>1</td>\n",
       "    </tr>\n",
       "    <tr>\n",
       "      <th>Food Preparation &amp; Serving Related</th>\n",
       "      <td>13</td>\n",
       "    </tr>\n",
       "    <tr>\n",
       "      <th>Healthcare Practitioners &amp; Technical</th>\n",
       "      <td>17</td>\n",
       "    </tr>\n",
       "    <tr>\n",
       "      <th>Healthcare Support</th>\n",
       "      <td>21</td>\n",
       "    </tr>\n",
       "    <tr>\n",
       "      <th>Installation Maintenance &amp; Repair</th>\n",
       "      <td>4</td>\n",
       "    </tr>\n",
       "    <tr>\n",
       "      <th>Legal</th>\n",
       "      <td>14</td>\n",
       "    </tr>\n",
       "    <tr>\n",
       "      <th>Life Physical Social Science</th>\n",
       "      <td>9</td>\n",
       "    </tr>\n",
       "    <tr>\n",
       "      <th>Management</th>\n",
       "      <td>40</td>\n",
       "    </tr>\n",
       "    <tr>\n",
       "      <th>Office &amp; Administrative Support</th>\n",
       "      <td>48</td>\n",
       "    </tr>\n",
       "    <tr>\n",
       "      <th>Personal Care &amp; Service</th>\n",
       "      <td>10</td>\n",
       "    </tr>\n",
       "    <tr>\n",
       "      <th>Production Occupations</th>\n",
       "      <td>8</td>\n",
       "    </tr>\n",
       "    <tr>\n",
       "      <th>Protective Service</th>\n",
       "      <td>10</td>\n",
       "    </tr>\n",
       "    <tr>\n",
       "      <th>Retired</th>\n",
       "      <td>14</td>\n",
       "    </tr>\n",
       "    <tr>\n",
       "      <th>Sales &amp; Related</th>\n",
       "      <td>60</td>\n",
       "    </tr>\n",
       "    <tr>\n",
       "      <th>Student</th>\n",
       "      <td>77</td>\n",
       "    </tr>\n",
       "    <tr>\n",
       "      <th>Transportation &amp; Material Moving</th>\n",
       "      <td>9</td>\n",
       "    </tr>\n",
       "    <tr>\n",
       "      <th>Unemployed</th>\n",
       "      <td>84</td>\n",
       "    </tr>\n",
       "  </tbody>\n",
       "</table>\n",
       "</div>"
      ],
      "text/plain": [
       "                                           coupon\n",
       "occupation                                       \n",
       "Architecture & Engineering                      8\n",
       "Arts Design Entertainment Sports & Media       26\n",
       "Building & Grounds Cleaning & Maintenance       3\n",
       "Business & Financial                           28\n",
       "Community & Social Services                    10\n",
       "Computer & Mathematical                        88\n",
       "Construction & Extraction                      13\n",
       "Education&Training&Library                     43\n",
       "Farming Fishing & Forestry                      1\n",
       "Food Preparation & Serving Related             13\n",
       "Healthcare Practitioners & Technical           17\n",
       "Healthcare Support                             21\n",
       "Installation Maintenance & Repair               4\n",
       "Legal                                          14\n",
       "Life Physical Social Science                    9\n",
       "Management                                     40\n",
       "Office & Administrative Support                48\n",
       "Personal Care & Service                        10\n",
       "Production Occupations                          8\n",
       "Protective Service                             10\n",
       "Retired                                        14\n",
       "Sales & Related                                60\n",
       "Student                                        77\n",
       "Transportation & Material Moving                9\n",
       "Unemployed                                     84"
      ]
     },
     "execution_count": 94,
     "metadata": {},
     "output_type": "execute_result"
    }
   ],
   "source": [
    "# Grouping by the Occupation, to identify the occupation of the drivers who accepted the coupon most\n",
    "all_others_who_accepted_restaurant_20_50=df_restaurant_20_50.loc[df_restaurant_20_50['Y']==1]\n",
    "all_others_who_accepted_restaurant_20_50.groupby('occupation').count()[['coupon']] #computer & mathematical"
   ]
  },
  {
   "cell_type": "code",
   "execution_count": null,
   "metadata": {},
   "outputs": [],
   "source": [
    "#go to bars more than once a month, had passengers that were not a kid, and were not widowed"
   ]
  },
  {
   "cell_type": "code",
   "execution_count": null,
   "metadata": {},
   "outputs": [],
   "source": [
    "\n",
    "not_widowed_list=['Single','Unmarried partner']\n",
    "\n",
    "#Drivers who go to Expensive restaurant more than once a month, had passengers who were not a kid, and were not widowed\n",
    "drivers_expensive_restaurant_more_than_once_month_no_kid_not_widowed = df_restaurant_20_50.query('Y==1 and Restaurant20To50 not in @expensive_restaurant_freq and passanger != \"Kid(s)\" and maritalStatus == \"Married partner\"')\n",
    "#drivers_expensive_restaurant_more_than_once_month_no_kid_not_widowed.shape[0] # 93\n",
    "\n",
    "#Acceptance rate for Drivers who go to Expensive restaurant more than once a month, had passengers who were not a kid, and were not widowed with total no. of bar coupons accepted\n",
    "acceptance_rate_drivers_expensive_restaurant_more_than_once_month_no_kid_not_widowed=round(drivers_expensive_restaurant_more_than_once_month_no_kid_not_widowed.shape[0]*100/all_others_who_accepted_restaurant_20_50_count)\n",
    "#acceptance_rate_drivers_expensive_restaurant_more_than_once_month_no_kid_not_widowed - 13%\n",
    "\n",
    "\n",
    "#Drivers who go to Expensive restaurant less than once a month, had passengers that were a kid, and were widowed\n",
    "drivers_expensive_restaurant_less_than_once_month_with_kid_and_widowed = df_restaurant_20_50.query('Y==1 and Restaurant20To50 in @expensive_restaurant_freq and passanger == \"Kid(s)\" and maritalStatus in @ not_widowed_list')\n",
    "#drivers_expensive_restaurant_less_than_once_month_with_kid_and_widowed # 5\n",
    "\n",
    "#Acceptance rate for Drivers who go to Expensive restaurant less than once a month, had passengers that were a kid, and were widowed with total no. of bar coupons accepted\n",
    "acceptance_rate_drivers_expensive_restaurant_less_than_once_month_with_kid_and_widowed=round(drivers_expensive_restaurant_less_than_once_month_with_kid_and_widowed.shape[0]*100/all_others_who_accepted_restaurant_20_50_count)\n",
    "#acceptance_rate_drivers_expensive_restaurant_less_than_once_month_with_kid_and_widowed - # 1%\n",
    "\n",
    "#===========================================Plotting=================================\n",
    "data_new = {\n",
    "    'Category': ['acceptance_rate_drivers_expensive_restaurant_less_than_once_month_with_kid_and_widowed', 'acceptance_rate_drivers_expensive_restaurant_more_than_once_month_no_kid_not_widowed'],\n",
    "    'AcceptanceRate': [acceptance_rate_drivers_expensive_restaurant_less_than_once_month_with_kid_and_widowed,acceptance_rate_drivers_expensive_restaurant_more_than_once_month_no_kid_not_widowed]\n",
    "    \n",
    "}\n",
    "df_3=pd.DataFrame(data_new)\n",
    "\n",
    "plot= sns.barplot(df_3,x='Category',y='AcceptanceRate',hue='Category')\n",
    "plot.set_xticklabels(plot.get_xticklabels(), rotation=75)\n",
    "\n",
    "plt.show()"
   ]
  },
  {
   "cell_type": "code",
   "execution_count": null,
   "metadata": {},
   "outputs": [],
   "source": [
    "################################################################Analysis###############################################\n",
    "\n",
    "#Coupon Type- 'Restaurant(20-50)' -> We will call it as \"Expensive Restaurant coupon in our analysis\"\n",
    "\n",
    "# Here are some raw observation based on the above data analysis : \n",
    "#\t1. Out of total coupon distributed, expensive restaurant coupon totals up to 12%\n",
    "#\t2. Out of 12% of total restaurant coupon , 44% of expensive restaurant coupon was accepted by customers\n",
    "#\t3. Acceptance rate is higher i.e 88% from the customers who visited the expensive restaurant 3 or less times compare to 12% of the drivers who has previously visited expensive restaurant more than 3 times\n",
    "#\t4. Acceptance rate is higher i.e 34% among the Drivers who are above 25 years old and go to restaurant coupon more than once a month compared to 15% of the drivers who are below 25 and go to restaurant coupon less than once a month\n",
    "#\t5. Acceptance rate is almost 0% among the drivers with Kids as passenger and who go to restaurant coupon less than once a month with occupation like Farming,Fishing,Forestry compare of 39% among drivers without kids and who go to restaurant coupon more than once a month and occupation other than Farming, Forestry and fishing \n",
    "#   6. Acceptance rate is higher i.e 13% among the drivers who visted restaurant coupon more than once a month and are not widowed and no passenger as kid compare to 1%\n",
    "\n",
    "\n",
    "###################In the context of Expensive Restaurant Coupons, here is the summary of my hypothesis###########################################\n",
    "\n",
    "#\t1. Given a restaurant coupon coupon, the acceptance rate is moderate i.e 44% among all the drivers in the Dataset.  Chances of People who has not been to restaurant coupon very often (i.e 3 or less) are high (i.e 88%) compare to drivers who goes to restaurant coupon more often (more than 3 times) . \n",
    "#   2. Chances of drivers accepting the coupon is more who go to restaurant coupon more than once a month provided \n",
    "#\t1. If they are above the age of 25\n",
    "#\t2. When they don't have Kids as passenger : \n",
    "#\t\ta. occupation other than Farming, Forestry and fishing tends to accept coupons\n",
    "#\t\tb. Are Not widowed \n",
    "#   5. Drivers with Kids as passenger has less than 1% acceptance rate\n",
    "#   6. Maximum no. of drivers who accepted the coupon is from the occupation \"Computer & Mathematical\" (count - 88) "
   ]
  }
 ],
 "metadata": {
  "colab": {
   "provenance": []
  },
  "kernelspec": {
   "display_name": "Python 3 (ipykernel)",
   "language": "python",
   "name": "python3"
  },
  "language_info": {
   "codemirror_mode": {
    "name": "ipython",
    "version": 3
   },
   "file_extension": ".py",
   "mimetype": "text/x-python",
   "name": "python",
   "nbconvert_exporter": "python",
   "pygments_lexer": "ipython3",
   "version": "3.12.4"
  }
 },
 "nbformat": 4,
 "nbformat_minor": 4
}
